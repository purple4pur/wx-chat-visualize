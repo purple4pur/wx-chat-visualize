{
 "cells": [
  {
   "cell_type": "markdown",
   "id": "8f28a3c8-6fa2-49c8-a2fc-45d536106098",
   "metadata": {},
   "source": [
    "### Import and load env"
   ]
  },
  {
   "cell_type": "code",
   "execution_count": null,
   "id": "36f91ca1-230d-4425-947b-ce970661240c",
   "metadata": {},
   "outputs": [],
   "source": [
    "from dotenv import load_dotenv\n",
    "import os\n",
    "import sqlite3\n",
    "import sys\n",
    "\n",
    "load_dotenv()\n",
    "\n",
    "MSG_DB_PATH = os.environ.get(\"MSG_DB_PATH\")\n",
    "FULL_DB_PATH = os.environ.get(\"FULL_DB_PATH\")\n",
    "START_TIMESTAMP = os.environ.get(\"START_TIMESTAMP\")\n",
    "END_TIMESTAMP = os.environ.get(\"END_TIMESTAMP\")\n",
    "TARGET_ID = os.environ.get(\"TARGET_ID\")\n",
    "print(\"load_dotenv():\")\n",
    "print(f\"  {MSG_DB_PATH=}\")\n",
    "print(f\"  {FULL_DB_PATH=}\")\n",
    "print(f\"  {START_TIMESTAMP=}\")\n",
    "print(f\"  {END_TIMESTAMP=}\")\n",
    "print(f\"  {TARGET_ID=}\")"
   ]
  },
  {
   "cell_type": "markdown",
   "id": "81156175-5bb6-4418-a08c-9836131d8df2",
   "metadata": {},
   "source": [
    "### Define helper methods"
   ]
  },
  {
   "cell_type": "code",
   "execution_count": null,
   "id": "1c83ddde-a93b-4316-82fd-5de149688853",
   "metadata": {},
   "outputs": [],
   "source": [
    "def connect_db(path):\n",
    "    try:\n",
    "        conn = sqlite3.connect(path)\n",
    "        return conn\n",
    "    except sqlite3.Error as e:\n",
    "        print(f\"Error connecting db: {e}\")\n",
    "        sys.exit(1)\n",
    "\n",
    "def execute_query(conn, query, params=(), no_commit=False):\n",
    "    try:\n",
    "        cursor = conn.cursor()\n",
    "        cursor.execute(query, params)\n",
    "        if not no_commit:\n",
    "            conn.commit()\n",
    "        if query.strip().lower().startswith(\"select\"):\n",
    "            return cursor.fetchall()\n",
    "        else:\n",
    "            return None\n",
    "    except sqlite3.Error as e:\n",
    "        print(f\"Error executing SQL query: {e}\")\n",
    "        sys.exit(1)"
   ]
  },
  {
   "cell_type": "markdown",
   "id": "12950fbb-1d4a-417d-bdc9-246f7046236a",
   "metadata": {},
   "source": [
    "### Create or load MSG db"
   ]
  },
  {
   "cell_type": "code",
   "execution_count": null,
   "id": "a45c03da-5e86-4fe7-9dd6-e402bc706b7e",
   "metadata": {},
   "outputs": [],
   "source": [
    "if not os.path.exists(MSG_DB_PATH):\n",
    "    full_conn = connect_db(FULL_DB_PATH)\n",
    "\n",
    "    query = f\"\"\"\n",
    "    SELECT *\n",
    "    FROM MSG\n",
    "    WHERE Sequence >= {START_TIMESTAMP + '000'}\n",
    "      AND Sequence <  {END_TIMESTAMP + '000'}\n",
    "      AND StrTalker = '{TARGET_ID}';\n",
    "    \"\"\"\n",
    "    msg = execute_query(full_conn, query)\n",
    "    if not msg:\n",
    "        print(\"error: no result from FULL_DB_PATH\")\n",
    "        sys.exit(1)\n",
    "    print(f\"Found {len(msg)} results.\")\n",
    "    full_conn.close()\n",
    "    \n",
    "    msg_conn = connect_db(MSG_DB_PATH)\n",
    "\n",
    "    query = \"\"\"\n",
    "    CREATE TABLE MSG(\n",
    "      localId INT,\n",
    "      TalkerId INT,\n",
    "      MsgSvrID INT,\n",
    "      Type INT,\n",
    "      SubType INT,\n",
    "      IsSender INT,\n",
    "      CreateTime INT,\n",
    "      Sequence INT,\n",
    "      StatusEx INT,\n",
    "      FlagEx INT,\n",
    "      Status INT,\n",
    "      MsgServerSeq INT,\n",
    "      MsgSequence INT,\n",
    "      StrTalker TEXT,\n",
    "      StrContent TEXT,\n",
    "      DisplayContent TEXT,\n",
    "      Reserved0 INT,\n",
    "      Reserved1 INT,\n",
    "      Reserved2 INT,\n",
    "      Reserved3 INT,\n",
    "      Reserved4 TEXT,\n",
    "      Reserved5 TEXT,\n",
    "      Reserved6 TEXT,\n",
    "      CompressContent,\n",
    "      BytesExtra,\n",
    "      BytesTrans\n",
    "    )\n",
    "    \"\"\"\n",
    "    execute_query(msg_conn, query)\n",
    "    query = \"INSERT INTO MSG VALUES (?, ?, ?, ?, ?, ?, ?, ?, ?, ?, ?, ?, ?, ?, ?, ?, ?, ?, ?, ?, ?, ?, ?, ?, ?, ?)\"\n",
    "    for i, row in enumerate(msg):\n",
    "        execute_query(msg_conn, query, row, no_commit=True)\n",
    "        if i % 5000 == 0:\n",
    "            msg_conn.commit()\n",
    "    msg_conn.commit()\n",
    "    print(f\"{MSG_DB_PATH} is created.\")\n",
    "else:\n",
    "    msg_conn = connect_db(MSG_DB_PATH)\n",
    "    print(f\"{MSG_DB_PATH} is found and loaded.\")"
   ]
  }
 ],
 "metadata": {
  "kernelspec": {
   "display_name": "Python 3 (ipykernel)",
   "language": "python",
   "name": "python3"
  },
  "language_info": {
   "codemirror_mode": {
    "name": "ipython",
    "version": 3
   },
   "file_extension": ".py",
   "mimetype": "text/x-python",
   "name": "python",
   "nbconvert_exporter": "python",
   "pygments_lexer": "ipython3",
   "version": "3.12.7"
  }
 },
 "nbformat": 4,
 "nbformat_minor": 5
}
