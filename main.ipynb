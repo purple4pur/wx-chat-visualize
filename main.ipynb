{
 "cells": [
  {
   "cell_type": "markdown",
   "id": "ef18c283-577b-4c7f-a0cc-5ec25a01954b",
   "metadata": {},
   "source": [
    "### Requirements"
   ]
  },
  {
   "cell_type": "code",
   "execution_count": null,
   "id": "6dcedd85-a964-41f5-8c4e-b562fec1f0f7",
   "metadata": {},
   "outputs": [],
   "source": [
    "!pip install -U python-dotenv matplotlib"
   ]
  },
  {
   "cell_type": "markdown",
   "id": "8f28a3c8-6fa2-49c8-a2fc-45d536106098",
   "metadata": {},
   "source": [
    "### Import and load env"
   ]
  },
  {
   "cell_type": "code",
   "execution_count": null,
   "id": "36f91ca1-230d-4425-947b-ce970661240c",
   "metadata": {},
   "outputs": [],
   "source": [
    "from dotenv import load_dotenv\n",
    "from pprint import pprint\n",
    "import matplotlib.pyplot as plt\n",
    "import numpy as np\n",
    "import os\n",
    "import sqlite3\n",
    "import sys\n",
    "\n",
    "load_dotenv()\n",
    "\n",
    "VERBOSE = os.environ.get(\"VERBOSE\")\n",
    "MSG_DB_PATH = os.environ.get(\"MSG_DB_PATH\")\n",
    "FULL_DB_PATH = os.environ.get(\"FULL_DB_PATH\")\n",
    "START_TIMESTAMP = os.environ.get(\"START_TIMESTAMP\")\n",
    "END_TIMESTAMP = os.environ.get(\"END_TIMESTAMP\")\n",
    "TARGET_ID = os.environ.get(\"TARGET_ID\")\n",
    "\n",
    "if VERBOSE == \"1\":\n",
    "    print(\"load_dotenv():\")\n",
    "    print(f\"  {VERBOSE=}\")\n",
    "    print(f\"  {MSG_DB_PATH=}\")\n",
    "    print(f\"  {FULL_DB_PATH=}\")\n",
    "    print(f\"  {START_TIMESTAMP=}\")\n",
    "    print(f\"  {END_TIMESTAMP=}\")\n",
    "    print(f\"  {TARGET_ID=}\")"
   ]
  },
  {
   "cell_type": "markdown",
   "id": "81156175-5bb6-4418-a08c-9836131d8df2",
   "metadata": {},
   "source": [
    "### Define helper methods"
   ]
  },
  {
   "cell_type": "code",
   "execution_count": null,
   "id": "1c83ddde-a93b-4316-82fd-5de149688853",
   "metadata": {},
   "outputs": [],
   "source": [
    "def connect_db(path):\n",
    "    try:\n",
    "        conn = sqlite3.connect(path)\n",
    "        return conn\n",
    "    except sqlite3.Error as e:\n",
    "        print(f\"Error connecting db: {e}\")\n",
    "        sys.exit(1)\n",
    "\n",
    "def execute_query(conn, query, params=(), no_commit=False):\n",
    "    try:\n",
    "        cursor = conn.cursor()\n",
    "        cursor.execute(query, params)\n",
    "        if not no_commit:\n",
    "            conn.commit()\n",
    "        if query.strip().lower().startswith(\"select\"):\n",
    "            return cursor.fetchall()\n",
    "        else:\n",
    "            return None\n",
    "    except sqlite3.Error as e:\n",
    "        print(f\"Error executing SQL query: {e}\")\n",
    "        sys.exit(1)"
   ]
  },
  {
   "cell_type": "markdown",
   "id": "12950fbb-1d4a-417d-bdc9-246f7046236a",
   "metadata": {},
   "source": [
    "### Create or load MSG db"
   ]
  },
  {
   "cell_type": "code",
   "execution_count": null,
   "id": "a45c03da-5e86-4fe7-9dd6-e402bc706b7e",
   "metadata": {},
   "outputs": [],
   "source": [
    "if not os.path.exists(MSG_DB_PATH):\n",
    "    full_conn = connect_db(FULL_DB_PATH)\n",
    "\n",
    "    query = f\"\"\"\n",
    "    SELECT *\n",
    "    FROM MSG\n",
    "    WHERE Sequence >= {START_TIMESTAMP + '000'}\n",
    "      AND Sequence <  {END_TIMESTAMP + '000'}\n",
    "      AND StrTalker = '{TARGET_ID}';\n",
    "    \"\"\"\n",
    "    msg = execute_query(full_conn, query)\n",
    "    if not msg:\n",
    "        print(\"error: no result from FULL_DB_PATH\")\n",
    "        sys.exit(1)\n",
    "    print(f\"Found {len(msg)} results.\")\n",
    "    full_conn.close()\n",
    "    \n",
    "    msg_conn = connect_db(MSG_DB_PATH)\n",
    "\n",
    "    query = \"\"\"\n",
    "    CREATE TABLE MSG(\n",
    "      localId INT,\n",
    "      TalkerId INT,\n",
    "      MsgSvrID INT,\n",
    "      Type INT,\n",
    "      SubType INT,\n",
    "      IsSender INT,\n",
    "      CreateTime INT,\n",
    "      Sequence INT,\n",
    "      StatusEx INT,\n",
    "      FlagEx INT,\n",
    "      Status INT,\n",
    "      MsgServerSeq INT,\n",
    "      MsgSequence INT,\n",
    "      StrTalker TEXT,\n",
    "      StrContent TEXT,\n",
    "      DisplayContent TEXT,\n",
    "      Reserved0 INT,\n",
    "      Reserved1 INT,\n",
    "      Reserved2 INT,\n",
    "      Reserved3 INT,\n",
    "      Reserved4 TEXT,\n",
    "      Reserved5 TEXT,\n",
    "      Reserved6 TEXT,\n",
    "      CompressContent,\n",
    "      BytesExtra,\n",
    "      BytesTrans\n",
    "    )\n",
    "    \"\"\"\n",
    "    execute_query(msg_conn, query)\n",
    "    query = \"INSERT INTO MSG VALUES (?, ?, ?, ?, ?, ?, ?, ?, ?, ?, ?, ?, ?, ?, ?, ?, ?, ?, ?, ?, ?, ?, ?, ?, ?, ?)\"\n",
    "    for i, row in enumerate(msg):\n",
    "        execute_query(msg_conn, query, row, no_commit=True)\n",
    "        if i % 5000 == 0:\n",
    "            msg_conn.commit()\n",
    "    msg_conn.commit()\n",
    "    print(f\"{MSG_DB_PATH} is created.\")\n",
    "\n",
    "else:\n",
    "    msg_conn = connect_db(MSG_DB_PATH)\n",
    "    print(f\"{MSG_DB_PATH} is found and loaded.\")"
   ]
  },
  {
   "cell_type": "markdown",
   "id": "3b702808-aa98-43db-8171-a214538403d2",
   "metadata": {},
   "source": [
    "---\n",
    "\n",
    "### Report\n",
    "\n",
    "今年我们一共发送了..."
   ]
  },
  {
   "cell_type": "code",
   "execution_count": null,
   "id": "31a92372-87c5-4973-85a7-a3bdff2d6018",
   "metadata": {},
   "outputs": [],
   "source": [
    "res = execute_query(msg_conn, \"SELECT COUNT(*) FROM MSG\")\n",
    "print(res[0][0])"
   ]
  },
  {
   "cell_type": "markdown",
   "id": "60647963-465a-4e36-b28d-3db3ca81334f",
   "metadata": {},
   "source": [
    "...条消息。"
   ]
  },
  {
   "cell_type": "code",
   "execution_count": null,
   "id": "48503aa6-f87b-45a9-91b2-d6eb807ad17d",
   "metadata": {},
   "outputs": [],
   "source": [
    "senders = [\"Purple\", \"Blue\"]\n",
    "senders_cn = [\"紫先生\", \"蓝小姐\"]\n",
    "colors = [\"#b780ff\", \"#059af7\"] # purple, blue\n",
    "wedgeprops = dict(width=0.7, edgecolor='w', linewidth=3)\n",
    "\n",
    "data = [\n",
    "    execute_query(msg_conn, \"SELECT COUNT(*) FROM MSG WHERE IsSender = 1\")[0][0],\n",
    "    execute_query(msg_conn, \"SELECT COUNT(*) FROM MSG WHERE IsSender = 0\")[0][0],\n",
    "]\n",
    "labels = [f\"Purple: {data[0]}\", f\"Blue: {data[1]}\"]\n",
    "\n",
    "fig, ax = plt.subplots(figsize=(4, 4))\n",
    "ax.pie(\n",
    "    data,\n",
    "    labels=labels,\n",
    "    autopct=\"%.2f%%\",\n",
    "    colors=colors,\n",
    "    wedgeprops=wedgeprops,\n",
    ")\n",
    "\n",
    "print(f\"其中，{senders_cn[0]}发送了 {data[0]} 条，{senders_cn[1]}发送了 {data[1]} 条：\")\n",
    "plt.show()"
   ]
  },
  {
   "cell_type": "markdown",
   "id": "7a7beb17-2cd0-4322-b3cf-a1cd86c7ad5a",
   "metadata": {},
   "source": [
    "在这么多条消息中里..."
   ]
  },
  {
   "cell_type": "code",
   "execution_count": null,
   "id": "338a8a27-2e23-4aa1-8b7b-6a669e5c2805",
   "metadata": {},
   "outputs": [],
   "source": [
    "types = {\n",
    "    \"Text\":    (1, 0, \"%\"),             # 文本\n",
    "    \"Pic\":     (3, 0, \"%\"),             # 图片\n",
    "    \"Video\":   (43, 0, \"%\"),            # 视频\n",
    "    \"Voice\":   (34, 0, \"%\"),            # 语音\n",
    "    \"Emoji_1\": (47, 0, \"%\"),            # 商店表情\n",
    "    \"Emoji_2\": (49, 8, \"%\"),            # 自定义表情\n",
    "    \"Call\":    (50, 0, \"%\"),            # 通话\n",
    "    \"Trans_1\": (49, 2000, \"%\"),         # 转账\n",
    "    \"Trans_2\": (10000, 0, \"发出红包%\"), # 红包\n",
    "    \"Trans_3\": (11000, 0, \"%\"),         # 红包\n",
    "    \"Tap\":     (10000, 4, \"%\"),         # 拍一拍\n",
    "}\n",
    "data = {}\n",
    "for t, p in types.items():\n",
    "    data[t] = np.array([\n",
    "        execute_query(msg_conn, \"SELECT COUNT(*) FROM MSG WHERE IsSender = 1 AND Type = ? AND SubType = ? AND StrContent LIKE ?\", p)[0][0],\n",
    "        execute_query(msg_conn, \"SELECT COUNT(*) FROM MSG WHERE IsSender = 0 AND Type = ? AND SubType = ? AND StrContent LIKE ?\", p)[0][0],\n",
    "    ])\n",
    "data[\"Emoji\"] = data[\"Emoji_1\"] + data[\"Emoji_2\"]\n",
    "data[\"Trans\"] = data[\"Trans_1\"] + data[\"Trans_2\"] + data[\"Trans_3\"]\n",
    "if VERBOSE == \"1\":\n",
    "    pprint(data)\n",
    "\n",
    "show = [\"Text\", \"Pic\", \"Video\", \"Voice\", \"Emoji\", \"Call\", \"Tap\", \"Trans\"]\n",
    "data_show = np.array([data[i] for i in show])\n",
    "if VERBOSE == \"1\":\n",
    "    pprint(data_show)\n",
    "\n",
    "x = np.arange(2)\n",
    "width = 0.4\n",
    "multiplier = 0\n",
    "\n",
    "fig, ax = plt.subplots(figsize=(12, 4))\n",
    "for i, d in enumerate(data_show):\n",
    "    rects = ax.bar(x * width + i, d, width, color=colors)\n",
    "    ax.bar_label(rects)\n",
    "ax.set_xticks(np.arange(len(show)) + width/2, show)\n",
    "\n",
    "def print_type_compare(key, desc):\n",
    "    d = data[key]\n",
    "    morer = 0 if d[0] > d[1] else 1\n",
    "    lesser = 1 - morer\n",
    "    pct = d[morer] * 100.0 / d[lesser] - 100\n",
    "    print(f\"{senders_cn[morer]}发出了更多的{desc}，达到了 {d[morer]} 条，比{senders_cn[lesser]}多出了 {pct:.2f}% ！\")\n",
    "\n",
    "print_type_compare(\"Text\", \"文字\")\n",
    "print_type_compare(\"Pic\", \"图片\")\n",
    "print_type_compare(\"Video\", \"视频\")\n",
    "print_type_compare(\"Voice\", \"语音\")\n",
    "print_type_compare(\"Emoji\", \"表情包\")\n",
    "print_type_compare(\"Call\", \"视频通话\")\n",
    "print_type_compare(\"Tap\", \"拍一拍\")\n",
    "print_type_compare(\"Trans\", \"红包和转账\")\n",
    "plt.show()"
   ]
  },
  {
   "cell_type": "code",
   "execution_count": null,
   "id": "0d869593-2449-443e-b354-e654ab59517e",
   "metadata": {},
   "outputs": [],
   "source": []
  }
 ],
 "metadata": {
  "kernelspec": {
   "display_name": "Python 3 (ipykernel)",
   "language": "python",
   "name": "python3"
  },
  "language_info": {
   "codemirror_mode": {
    "name": "ipython",
    "version": 3
   },
   "file_extension": ".py",
   "mimetype": "text/x-python",
   "name": "python",
   "nbconvert_exporter": "python",
   "pygments_lexer": "ipython3",
   "version": "3.12.8"
  }
 },
 "nbformat": 4,
 "nbformat_minor": 5
}
